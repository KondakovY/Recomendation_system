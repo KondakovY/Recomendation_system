{
 "cells": [
  {
   "cell_type": "code",
   "execution_count": 2,
   "id": "7ada4539",
   "metadata": {},
   "outputs": [],
   "source": [
    "import pandas as pd\n",
    "import numpy as np\n",
    "import matplotlib.pyplot as plt\n",
    "import itertools as it\n",
    "\n",
    "from scipy.sparse import csr_matrix, coo_matrix\n",
    "\n",
    "\n",
    "from implicit.als import AlternatingLeastSquares\n",
    "from implicit.nearest_neighbours import bm25_weight, tfidf_weight\n",
    "\n",
    "from lightfm import LightFM\n",
    "from lightfm.evaluation import precision_at_k, recall_at_k\n",
    "\n",
    "import optuna\n",
    "\n",
    "\n",
    "from utils import prefilter_items\n",
    "import warnings\n",
    "warnings.filterwarnings('ignore')\n",
    "\n",
    "%matplotlib inline"
   ]
  },
  {
   "cell_type": "markdown",
   "id": "1bc52b1c",
   "metadata": {},
   "source": [
    "Задание 1"
   ]
  },
  {
   "cell_type": "markdown",
   "id": "9e37c19a",
   "metadata": {},
   "source": [
    "Прочитать статьи про BPR, WARP loss"
   ]
  },
  {
   "cell_type": "markdown",
   "id": "452f256a",
   "metadata": {},
   "source": [
    "+"
   ]
  },
  {
   "cell_type": "markdown",
   "id": "c046da15",
   "metadata": {},
   "source": [
    "Задание 2"
   ]
  },
  {
   "cell_type": "markdown",
   "id": "19932f6d",
   "metadata": {},
   "source": [
    "Сделать грид серч текущей модели"
   ]
  },
  {
   "cell_type": "code",
   "execution_count": 3,
   "id": "d88833c6",
   "metadata": {},
   "outputs": [],
   "source": [
    "data = pd.read_csv('retail_train.csv')\n",
    "\n",
    "item_features = pd.read_csv('product.csv')\n",
    "user_features = pd.read_csv('hh_demographic.csv')\n",
    "\n",
    "# column processing\n",
    "item_features.columns = [col.lower() for col in item_features.columns]\n",
    "user_features.columns = [col.lower() for col in user_features.columns]\n",
    "\n",
    "item_features.rename(columns={'product_id': 'item_id'}, inplace=True)\n",
    "user_features.rename(columns={'household_key': 'user_id'}, inplace=True)\n",
    "\n",
    "# train test split\n",
    "test_size_weeks = 3\n",
    "\n",
    "data_train = data[data['week_no'] < data['week_no'].max() - test_size_weeks]\n",
    "data_test = data[data['week_no'] >= data['week_no'].max() - test_size_weeks]"
   ]
  },
  {
   "cell_type": "code",
   "execution_count": 4,
   "id": "aafbc954",
   "metadata": {},
   "outputs": [],
   "source": [
    "user_item_matrix = pd.pivot_table(data_train, \n",
    "                                  index='user_id', columns='item_id', \n",
    "                                  values='quantity',\n",
    "                                  aggfunc='count', \n",
    "                                  fill_value=0\n",
    "                                 )\n",
    "\n",
    "user_item_matrix = user_item_matrix.astype(float)\n",
    "\n",
    "sparse_user_item = csr_matrix(user_item_matrix)"
   ]
  },
  {
   "cell_type": "code",
   "execution_count": 5,
   "id": "afe4f107",
   "metadata": {},
   "outputs": [],
   "source": [
    "data_test = data_test[data_test['item_id'].isin(data_train['item_id'].unique())]\n",
    "\n",
    "test_user_item_matrix = pd.pivot_table(data_test, \n",
    "                                  index='user_id', columns='item_id', \n",
    "                                  values='quantity',\n",
    "                                  aggfunc='count', \n",
    "                                  fill_value=0\n",
    "                                 )\n",
    "\n",
    "test_user_item_matrix = test_user_item_matrix.astype(float)\n",
    "\n",
    "test_sparse_user_item = csr_matrix(test_user_item_matrix)"
   ]
  },
  {
   "cell_type": "code",
   "execution_count": 6,
   "id": "2872a998",
   "metadata": {},
   "outputs": [],
   "source": [
    "userids = user_item_matrix.index.values\n",
    "itemids = user_item_matrix.columns.values\n",
    "\n",
    "matrix_userids = np.arange(len(userids))\n",
    "matrix_itemids = np.arange(len(itemids))\n",
    "\n",
    "id_to_itemid = dict(zip(matrix_itemids, itemids))\n",
    "id_to_userid = dict(zip(matrix_userids, userids))\n",
    "\n",
    "itemid_to_id = dict(zip(itemids, matrix_itemids))\n",
    "userid_to_id = dict(zip(userids, matrix_userids))"
   ]
  },
  {
   "cell_type": "code",
   "execution_count": 7,
   "id": "b7c63d01",
   "metadata": {},
   "outputs": [
    {
     "data": {
      "text/html": [
       "<div>\n",
       "<style scoped>\n",
       "    .dataframe tbody tr th:only-of-type {\n",
       "        vertical-align: middle;\n",
       "    }\n",
       "\n",
       "    .dataframe tbody tr th {\n",
       "        vertical-align: top;\n",
       "    }\n",
       "\n",
       "    .dataframe thead th {\n",
       "        text-align: right;\n",
       "    }\n",
       "</style>\n",
       "<table border=\"1\" class=\"dataframe\">\n",
       "  <thead>\n",
       "    <tr style=\"text-align: right;\">\n",
       "      <th></th>\n",
       "      <th>age_desc</th>\n",
       "      <th>marital_status_code</th>\n",
       "      <th>income_desc</th>\n",
       "      <th>homeowner_desc</th>\n",
       "      <th>hh_comp_desc</th>\n",
       "      <th>household_size_desc</th>\n",
       "      <th>kid_category_desc</th>\n",
       "    </tr>\n",
       "    <tr>\n",
       "      <th>user_id</th>\n",
       "      <th></th>\n",
       "      <th></th>\n",
       "      <th></th>\n",
       "      <th></th>\n",
       "      <th></th>\n",
       "      <th></th>\n",
       "      <th></th>\n",
       "    </tr>\n",
       "  </thead>\n",
       "  <tbody>\n",
       "    <tr>\n",
       "      <th>1</th>\n",
       "      <td>65+</td>\n",
       "      <td>A</td>\n",
       "      <td>35-49K</td>\n",
       "      <td>Homeowner</td>\n",
       "      <td>2 Adults No Kids</td>\n",
       "      <td>2</td>\n",
       "      <td>None/Unknown</td>\n",
       "    </tr>\n",
       "    <tr>\n",
       "      <th>2</th>\n",
       "      <td>NaN</td>\n",
       "      <td>NaN</td>\n",
       "      <td>NaN</td>\n",
       "      <td>NaN</td>\n",
       "      <td>NaN</td>\n",
       "      <td>NaN</td>\n",
       "      <td>NaN</td>\n",
       "    </tr>\n",
       "  </tbody>\n",
       "</table>\n",
       "</div>"
      ],
      "text/plain": [
       "        age_desc marital_status_code income_desc homeowner_desc  \\\n",
       "user_id                                                           \n",
       "1            65+                   A      35-49K      Homeowner   \n",
       "2            NaN                 NaN         NaN            NaN   \n",
       "\n",
       "             hh_comp_desc household_size_desc kid_category_desc  \n",
       "user_id                                                          \n",
       "1        2 Adults No Kids                   2      None/Unknown  \n",
       "2                     NaN                 NaN               NaN  "
      ]
     },
     "execution_count": 7,
     "metadata": {},
     "output_type": "execute_result"
    }
   ],
   "source": [
    "user_feat = pd.DataFrame(user_item_matrix.index)\n",
    "user_feat = user_feat.merge(user_features, on='user_id', how='left')\n",
    "user_feat.set_index('user_id', inplace=True)\n",
    "user_feat.head(2)"
   ]
  },
  {
   "cell_type": "code",
   "execution_count": 8,
   "id": "202ddc9e",
   "metadata": {},
   "outputs": [
    {
     "data": {
      "text/plain": [
       "(2499, 7)"
      ]
     },
     "execution_count": 8,
     "metadata": {},
     "output_type": "execute_result"
    }
   ],
   "source": [
    "user_feat.shape"
   ]
  },
  {
   "cell_type": "code",
   "execution_count": 9,
   "id": "01d50ee2",
   "metadata": {},
   "outputs": [
    {
     "data": {
      "text/html": [
       "<div>\n",
       "<style scoped>\n",
       "    .dataframe tbody tr th:only-of-type {\n",
       "        vertical-align: middle;\n",
       "    }\n",
       "\n",
       "    .dataframe tbody tr th {\n",
       "        vertical-align: top;\n",
       "    }\n",
       "\n",
       "    .dataframe thead th {\n",
       "        text-align: right;\n",
       "    }\n",
       "</style>\n",
       "<table border=\"1\" class=\"dataframe\">\n",
       "  <thead>\n",
       "    <tr style=\"text-align: right;\">\n",
       "      <th></th>\n",
       "      <th>manufacturer</th>\n",
       "      <th>department</th>\n",
       "      <th>brand</th>\n",
       "      <th>commodity_desc</th>\n",
       "      <th>sub_commodity_desc</th>\n",
       "      <th>curr_size_of_product</th>\n",
       "    </tr>\n",
       "    <tr>\n",
       "      <th>item_id</th>\n",
       "      <th></th>\n",
       "      <th></th>\n",
       "      <th></th>\n",
       "      <th></th>\n",
       "      <th></th>\n",
       "      <th></th>\n",
       "    </tr>\n",
       "  </thead>\n",
       "  <tbody>\n",
       "    <tr>\n",
       "      <th>25671</th>\n",
       "      <td>2</td>\n",
       "      <td>GROCERY</td>\n",
       "      <td>National</td>\n",
       "      <td>FRZN ICE</td>\n",
       "      <td>ICE - CRUSHED/CUBED</td>\n",
       "      <td>22 LB</td>\n",
       "    </tr>\n",
       "    <tr>\n",
       "      <th>26081</th>\n",
       "      <td>2</td>\n",
       "      <td>MISC. TRANS.</td>\n",
       "      <td>National</td>\n",
       "      <td>NO COMMODITY DESCRIPTION</td>\n",
       "      <td>NO SUBCOMMODITY DESCRIPTION</td>\n",
       "      <td></td>\n",
       "    </tr>\n",
       "  </tbody>\n",
       "</table>\n",
       "</div>"
      ],
      "text/plain": [
       "         manufacturer    department     brand            commodity_desc  \\\n",
       "item_id                                                                   \n",
       "25671               2       GROCERY  National                  FRZN ICE   \n",
       "26081               2  MISC. TRANS.  National  NO COMMODITY DESCRIPTION   \n",
       "\n",
       "                  sub_commodity_desc curr_size_of_product  \n",
       "item_id                                                    \n",
       "25671            ICE - CRUSHED/CUBED                22 LB  \n",
       "26081    NO SUBCOMMODITY DESCRIPTION                       "
      ]
     },
     "execution_count": 9,
     "metadata": {},
     "output_type": "execute_result"
    }
   ],
   "source": [
    "item_feat = pd.DataFrame(user_item_matrix.columns)\n",
    "item_feat = item_feat.merge(item_features, on='item_id', how='left')\n",
    "item_feat.set_index('item_id', inplace=True)\n",
    "\n",
    "item_feat.head(2)"
   ]
  },
  {
   "cell_type": "code",
   "execution_count": 10,
   "id": "79200334",
   "metadata": {},
   "outputs": [
    {
     "data": {
      "text/plain": [
       "(86865, 6)"
      ]
     },
     "execution_count": 10,
     "metadata": {},
     "output_type": "execute_result"
    }
   ],
   "source": [
    "item_feat.shape"
   ]
  },
  {
   "cell_type": "code",
   "execution_count": 11,
   "id": "b9dfc263",
   "metadata": {},
   "outputs": [],
   "source": [
    "user_feat_lightfm = pd.get_dummies(user_feat, columns=user_feat.columns.tolist())\n",
    "item_feat_lightfm = pd.get_dummies(item_feat, columns=item_feat.columns.tolist())"
   ]
  },
  {
   "cell_type": "code",
   "execution_count": 12,
   "id": "76007828",
   "metadata": {},
   "outputs": [
    {
     "data": {
      "text/html": [
       "<div>\n",
       "<style scoped>\n",
       "    .dataframe tbody tr th:only-of-type {\n",
       "        vertical-align: middle;\n",
       "    }\n",
       "\n",
       "    .dataframe tbody tr th {\n",
       "        vertical-align: top;\n",
       "    }\n",
       "\n",
       "    .dataframe thead th {\n",
       "        text-align: right;\n",
       "    }\n",
       "</style>\n",
       "<table border=\"1\" class=\"dataframe\">\n",
       "  <thead>\n",
       "    <tr style=\"text-align: right;\">\n",
       "      <th></th>\n",
       "      <th>age_desc_19-24</th>\n",
       "      <th>age_desc_25-34</th>\n",
       "      <th>age_desc_35-44</th>\n",
       "      <th>age_desc_45-54</th>\n",
       "      <th>age_desc_55-64</th>\n",
       "      <th>age_desc_65+</th>\n",
       "      <th>marital_status_code_A</th>\n",
       "      <th>marital_status_code_B</th>\n",
       "      <th>marital_status_code_U</th>\n",
       "      <th>income_desc_100-124K</th>\n",
       "      <th>...</th>\n",
       "      <th>hh_comp_desc_Unknown</th>\n",
       "      <th>household_size_desc_1</th>\n",
       "      <th>household_size_desc_2</th>\n",
       "      <th>household_size_desc_3</th>\n",
       "      <th>household_size_desc_4</th>\n",
       "      <th>household_size_desc_5+</th>\n",
       "      <th>kid_category_desc_1</th>\n",
       "      <th>kid_category_desc_2</th>\n",
       "      <th>kid_category_desc_3+</th>\n",
       "      <th>kid_category_desc_None/Unknown</th>\n",
       "    </tr>\n",
       "    <tr>\n",
       "      <th>user_id</th>\n",
       "      <th></th>\n",
       "      <th></th>\n",
       "      <th></th>\n",
       "      <th></th>\n",
       "      <th></th>\n",
       "      <th></th>\n",
       "      <th></th>\n",
       "      <th></th>\n",
       "      <th></th>\n",
       "      <th></th>\n",
       "      <th></th>\n",
       "      <th></th>\n",
       "      <th></th>\n",
       "      <th></th>\n",
       "      <th></th>\n",
       "      <th></th>\n",
       "      <th></th>\n",
       "      <th></th>\n",
       "      <th></th>\n",
       "      <th></th>\n",
       "      <th></th>\n",
       "    </tr>\n",
       "  </thead>\n",
       "  <tbody>\n",
       "    <tr>\n",
       "      <th>1</th>\n",
       "      <td>0</td>\n",
       "      <td>0</td>\n",
       "      <td>0</td>\n",
       "      <td>0</td>\n",
       "      <td>0</td>\n",
       "      <td>1</td>\n",
       "      <td>1</td>\n",
       "      <td>0</td>\n",
       "      <td>0</td>\n",
       "      <td>0</td>\n",
       "      <td>...</td>\n",
       "      <td>0</td>\n",
       "      <td>0</td>\n",
       "      <td>1</td>\n",
       "      <td>0</td>\n",
       "      <td>0</td>\n",
       "      <td>0</td>\n",
       "      <td>0</td>\n",
       "      <td>0</td>\n",
       "      <td>0</td>\n",
       "      <td>1</td>\n",
       "    </tr>\n",
       "    <tr>\n",
       "      <th>2</th>\n",
       "      <td>0</td>\n",
       "      <td>0</td>\n",
       "      <td>0</td>\n",
       "      <td>0</td>\n",
       "      <td>0</td>\n",
       "      <td>0</td>\n",
       "      <td>0</td>\n",
       "      <td>0</td>\n",
       "      <td>0</td>\n",
       "      <td>0</td>\n",
       "      <td>...</td>\n",
       "      <td>0</td>\n",
       "      <td>0</td>\n",
       "      <td>0</td>\n",
       "      <td>0</td>\n",
       "      <td>0</td>\n",
       "      <td>0</td>\n",
       "      <td>0</td>\n",
       "      <td>0</td>\n",
       "      <td>0</td>\n",
       "      <td>0</td>\n",
       "    </tr>\n",
       "  </tbody>\n",
       "</table>\n",
       "<p>2 rows × 41 columns</p>\n",
       "</div>"
      ],
      "text/plain": [
       "         age_desc_19-24  age_desc_25-34  age_desc_35-44  age_desc_45-54  \\\n",
       "user_id                                                                   \n",
       "1                     0               0               0               0   \n",
       "2                     0               0               0               0   \n",
       "\n",
       "         age_desc_55-64  age_desc_65+  marital_status_code_A  \\\n",
       "user_id                                                        \n",
       "1                     0             1                      1   \n",
       "2                     0             0                      0   \n",
       "\n",
       "         marital_status_code_B  marital_status_code_U  income_desc_100-124K  \\\n",
       "user_id                                                                       \n",
       "1                            0                      0                     0   \n",
       "2                            0                      0                     0   \n",
       "\n",
       "         ...  hh_comp_desc_Unknown  household_size_desc_1  \\\n",
       "user_id  ...                                                \n",
       "1        ...                     0                      0   \n",
       "2        ...                     0                      0   \n",
       "\n",
       "         household_size_desc_2  household_size_desc_3  household_size_desc_4  \\\n",
       "user_id                                                                        \n",
       "1                            1                      0                      0   \n",
       "2                            0                      0                      0   \n",
       "\n",
       "         household_size_desc_5+  kid_category_desc_1  kid_category_desc_2  \\\n",
       "user_id                                                                     \n",
       "1                             0                    0                    0   \n",
       "2                             0                    0                    0   \n",
       "\n",
       "         kid_category_desc_3+  kid_category_desc_None/Unknown  \n",
       "user_id                                                        \n",
       "1                           0                               1  \n",
       "2                           0                               0  \n",
       "\n",
       "[2 rows x 41 columns]"
      ]
     },
     "execution_count": 12,
     "metadata": {},
     "output_type": "execute_result"
    }
   ],
   "source": [
    "user_feat_lightfm.head(2)"
   ]
  },
  {
   "cell_type": "code",
   "execution_count": 13,
   "id": "c8435dbe",
   "metadata": {},
   "outputs": [],
   "source": [
    "scores = []"
   ]
  },
  {
   "cell_type": "code",
   "execution_count": 14,
   "id": "c000e2a1",
   "metadata": {},
   "outputs": [
    {
     "name": "stderr",
     "output_type": "stream",
     "text": [
      "\u001b[32m[I 2022-05-01 19:17:47,536]\u001b[0m A new study created in memory with name: no-name-30c49515-32a3-4837-a353-3f0b4ce1b2d9\u001b[0m\n",
      "\u001b[32m[I 2022-05-01 19:27:02,505]\u001b[0m Trial 0 finished with value: 0.004703576676547527 and parameters: {'components': 29, 'lr': 0.281429826138992}. Best is trial 0 with value: 0.004703576676547527.\u001b[0m\n",
      "\u001b[32m[I 2022-05-01 19:42:30,726]\u001b[0m Trial 1 finished with value: 0.005879471078515053 and parameters: {'components': 49, 'lr': 0.1703878984266359}. Best is trial 1 with value: 0.005879471078515053.\u001b[0m\n",
      "\u001b[32m[I 2022-05-01 19:50:03,446]\u001b[0m Trial 2 finished with value: 0.004115629475563765 and parameters: {'components': 20, 'lr': 0.2963899187745479}. Best is trial 1 with value: 0.005879471078515053.\u001b[0m\n",
      "\u001b[32m[I 2022-05-01 20:02:03,235]\u001b[0m Trial 3 finished with value: 0.0006859382847324014 and parameters: {'components': 51, 'lr': 0.3636862103813766}. Best is trial 1 with value: 0.005879471078515053.\u001b[0m\n",
      "\u001b[32m[I 2022-05-01 20:13:27,489]\u001b[0m Trial 4 finished with value: 0.0027437531389296055 and parameters: {'components': 48, 'lr': 0.36727947935052135}. Best is trial 1 with value: 0.005879471078515053.\u001b[0m\n",
      "\u001b[32m[I 2022-05-01 20:28:44,766]\u001b[0m Trial 5 finished with value: 0.0014698677696287632 and parameters: {'components': 64, 'lr': 0.21156873970843465}. Best is trial 1 with value: 0.005879471078515053.\u001b[0m\n",
      "\u001b[32m[I 2022-05-01 20:39:36,548]\u001b[0m Trial 6 finished with value: 0.0021558059379458427 and parameters: {'components': 44, 'lr': 0.4526367040088742}. Best is trial 1 with value: 0.005879471078515053.\u001b[0m\n",
      "\u001b[32m[I 2022-05-01 20:56:53,571]\u001b[0m Trial 7 finished with value: 0.002253797370940447 and parameters: {'components': 51, 'lr': 0.030843655422790515}. Best is trial 1 with value: 0.005879471078515053.\u001b[0m\n",
      "\u001b[32m[I 2022-05-01 21:08:59,825]\u001b[0m Trial 8 finished with value: 0.0012738852528855205 and parameters: {'components': 44, 'lr': 0.20305192247690038}. Best is trial 1 with value: 0.005879471078515053.\u001b[0m\n",
      "\u001b[32m[I 2022-05-01 21:26:31,118]\u001b[0m Trial 9 finished with value: 0.002057814970612526 and parameters: {'components': 53, 'lr': 0.07132939854364101}. Best is trial 1 with value: 0.005879471078515053.\u001b[0m\n",
      "\u001b[32m[I 2022-05-01 21:39:42,619]\u001b[0m Trial 10 finished with value: 0.005193532910197973 and parameters: {'components': 35, 'lr': 0.14013688844995575}. Best is trial 1 with value: 0.005879471078515053.\u001b[0m\n",
      "\u001b[32m[I 2022-05-01 21:53:38,766]\u001b[0m Trial 11 finished with value: 0.005389514844864607 and parameters: {'components': 33, 'lr': 0.12048884826314515}. Best is trial 1 with value: 0.005879471078515053.\u001b[0m\n",
      "\u001b[32m[I 2022-05-01 22:07:33,710]\u001b[0m Trial 12 finished with value: 0.005389514844864607 and parameters: {'components': 34, 'lr': 0.11608521432434599}. Best is trial 1 with value: 0.005879471078515053.\u001b[0m\n",
      "\u001b[32m[I 2022-05-01 22:17:44,217]\u001b[0m Trial 13 finished with value: 0.002841744339093566 and parameters: {'components': 24, 'lr': 0.1537084582854472}. Best is trial 1 with value: 0.005879471078515053.\u001b[0m\n",
      "\u001b[32m[I 2022-05-01 22:37:14,047]\u001b[0m Trial 14 finished with value: 0.002253797370940447 and parameters: {'components': 59, 'lr': 0.02946566298314522}. Best is trial 1 with value: 0.005879471078515053.\u001b[0m\n",
      "\u001b[32m[I 2022-05-01 22:48:20,522]\u001b[0m Trial 15 finished with value: 0.0007839294848963618 and parameters: {'components': 38, 'lr': 0.2066009585803253}. Best is trial 1 with value: 0.005879471078515053.\u001b[0m\n",
      "\u001b[32m[I 2022-05-01 22:59:56,026]\u001b[0m Trial 16 finished with value: 0.005193532910197973 and parameters: {'components': 29, 'lr': 0.10307426239620868}. Best is trial 1 with value: 0.005879471078515053.\u001b[0m\n",
      "\u001b[32m[I 2022-05-01 23:14:53,854]\u001b[0m Trial 17 finished with value: 0.006957373581826687 and parameters: {'components': 43, 'lr': 0.17473467633319584}. Best is trial 17 with value: 0.006957373581826687.\u001b[0m\n",
      "\u001b[32m[I 2022-05-01 23:28:17,627]\u001b[0m Trial 18 finished with value: 0.0010779029689729214 and parameters: {'components': 57, 'lr': 0.25138584674387066}. Best is trial 17 with value: 0.006957373581826687.\u001b[0m\n",
      "\u001b[32m[I 2022-05-01 23:39:13,576]\u001b[0m Trial 19 finished with value: 0.0011758941691368818 and parameters: {'components': 44, 'lr': 0.4987918760543637}. Best is trial 17 with value: 0.006957373581826687.\u001b[0m\n",
      "\u001b[32m[I 2022-05-01 23:49:57,090]\u001b[0m Trial 20 finished with value: 0.002057814970612526 and parameters: {'components': 42, 'lr': 0.325249923822553}. Best is trial 17 with value: 0.006957373581826687.\u001b[0m\n",
      "\u001b[32m[I 2022-05-02 00:02:16,567]\u001b[0m Trial 21 finished with value: 0.0006859382847324014 and parameters: {'components': 38, 'lr': 0.1765161681539276}. Best is trial 17 with value: 0.006957373581826687.\u001b[0m\n",
      "\u001b[32m[I 2022-05-02 00:16:49,058]\u001b[0m Trial 22 finished with value: 0.0020578147377818823 and parameters: {'components': 33, 'lr': 0.0844738712857391}. Best is trial 17 with value: 0.006957373581826687.\u001b[0m\n",
      "\u001b[32m[I 2022-05-02 00:35:48,790]\u001b[0m Trial 23 finished with value: 0.0015678589697927237 and parameters: {'components': 47, 'lr': 0.0033041372982621497}. Best is trial 17 with value: 0.006957373581826687.\u001b[0m\n",
      "\u001b[32m[I 2022-05-02 00:47:54,340]\u001b[0m Trial 24 finished with value: 0.002645761938765645 and parameters: {'components': 29, 'lr': 0.15231987563475724}. Best is trial 17 with value: 0.006957373581826687.\u001b[0m\n"
     ]
    }
   ],
   "source": [
    "def objective(trial):\n",
    "    global scores\n",
    "\n",
    "    \n",
    "    loss = 'warp'\n",
    "    components = trial.suggest_int('components', 16, 64)\n",
    "    lr = trial.suggest_uniform('lr', 0.0001, 0.5)\n",
    "    item_alpha = 0.1\n",
    "    user_alpha = 0.1\n",
    "    model = LightFM(no_components=components,\n",
    "                    loss=loss,\n",
    "                    learning_rate=lr, \n",
    "                    item_alpha=item_alpha,\n",
    "                    user_alpha=user_alpha, \n",
    "                    random_state=42)\n",
    "\n",
    "    \n",
    "    model.fit((sparse_user_item > 0) * 1,\n",
    "              sample_weight=coo_matrix(user_item_matrix),\n",
    "              user_features=csr_matrix(user_feat_lightfm.values),\n",
    "              item_features=csr_matrix(item_feat_lightfm.values),\n",
    "              epochs=15, \n",
    "              num_threads=6,\n",
    "              verbose=False)\n",
    "\n",
    "    \n",
    "    train_precision = precision_at_k(model, sparse_user_item, \n",
    "                                     user_features=csr_matrix(user_feat_lightfm.values),\n",
    "                                     item_features=csr_matrix(item_feat_lightfm.values),\n",
    "                                     k=5).mean()\n",
    "    \n",
    "    test_precision = precision_at_k(model, csr_matrix(test_user_item_matrix), \n",
    "                                     user_features=csr_matrix(user_feat_lightfm.values),\n",
    "                                     item_features=csr_matrix(item_feat_lightfm.values),\n",
    "                                     k=5).mean()\n",
    "\n",
    "    \n",
    "    scores.append({'components': components,\n",
    "                   'lr': lr,\n",
    "                   'train': train_precision,\n",
    "                   'test': test_precision})\n",
    "\n",
    "    return test_precision\n",
    "\n",
    "\n",
    "study = optuna.create_study(direction='maximize')  \n",
    "study.optimize(objective, n_trials=25) "
   ]
  },
  {
   "cell_type": "markdown",
   "id": "2ed8603f",
   "metadata": {},
   "source": [
    "Оптимальными параметрами модели являются: no_components = 60, learning_rate = 0.149"
   ]
  },
  {
   "cell_type": "code",
   "execution_count": null,
   "id": "4dd658c0",
   "metadata": {},
   "outputs": [],
   "source": []
  }
 ],
 "metadata": {
  "kernelspec": {
   "display_name": "Python 3 (ipykernel)",
   "language": "python",
   "name": "python3"
  },
  "language_info": {
   "codemirror_mode": {
    "name": "ipython",
    "version": 3
   },
   "file_extension": ".py",
   "mimetype": "text/x-python",
   "name": "python",
   "nbconvert_exporter": "python",
   "pygments_lexer": "ipython3",
   "version": "3.9.7"
  }
 },
 "nbformat": 4,
 "nbformat_minor": 5
}
